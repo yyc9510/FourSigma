{
 "cells": [
  {
   "cell_type": "code",
   "execution_count": 1,
   "metadata": {},
   "outputs": [],
   "source": [
    "import pandas as pd\n",
    "import os\n",
    "import csv\n",
    "import json"
   ]
  },
  {
   "cell_type": "code",
   "execution_count": 2,
   "metadata": {},
   "outputs": [
    {
     "data": {
      "text/plain": [
       "['.DS_Store',\n",
       " 'dishwashers.csv',\n",
       " 'washing machines.csv',\n",
       " 'Fridges and Freezers.csv',\n",
       " 'computer monitors.csv',\n",
       " 'dryer.csv',\n",
       " 'tv.csv']"
      ]
     },
     "execution_count": 2,
     "metadata": {},
     "output_type": "execute_result"
    }
   ],
   "source": [
    "os.listdir('./csv')"
   ]
  },
  {
   "cell_type": "code",
   "execution_count": 3,
   "metadata": {},
   "outputs": [],
   "source": [
    "all_dfs = {file.split('.')[0].strip(): pd.read_csv(os.path.join('./csv', file)).fillna('NaN')\n",
    "           for file in os.listdir('./csv') if file.endswith('.csv')}"
   ]
  },
  {
   "cell_type": "code",
   "execution_count": 4,
   "metadata": {},
   "outputs": [
    {
     "data": {
      "text/plain": [
       "dict_keys(['dishwashers', 'washing machines', 'Fridges and Freezers', 'computer monitors', 'dryer', 'tv'])"
      ]
     },
     "execution_count": 4,
     "metadata": {},
     "output_type": "execute_result"
    }
   ],
   "source": [
    "all_dfs.keys()"
   ]
  },
  {
   "cell_type": "code",
   "execution_count": 5,
   "metadata": {},
   "outputs": [
    {
     "name": "stdout",
     "output_type": "stream",
     "text": [
      "7\n",
      "7\n",
      "7\n",
      "7\n",
      "7\n",
      "7\n",
      "7\n"
     ]
    }
   ],
   "source": [
    "# for auto wrangle all files\n",
    "all_cols = set()\n",
    "\n",
    "for each in all_dfs.values():\n",
    "    print(len(each.columns))\n",
    "    all_cols = all_cols.union(each.columns)\n",
    "    \n",
    "print(len(all_cols))"
   ]
  },
  {
   "cell_type": "code",
   "execution_count": 6,
   "metadata": {},
   "outputs": [
    {
     "name": "stdout",
     "output_type": "stream",
     "text": [
      "['Dishwashers']\n",
      "['Washing Machines']\n",
      "['Fridges and Freezers']\n",
      "['Computer Monitor']\n",
      "['Dryers']\n",
      "['Televisions']\n"
     ]
    }
   ],
   "source": [
    "for df in all_dfs.values():\n",
    "    #current_json = dict()\n",
    "    #current_json[df['Appliance Type'].unique()] = dict()\n",
    "    print(df['Appliance Type'].unique())"
   ]
  },
  {
   "cell_type": "code",
   "execution_count": 7,
   "metadata": {},
   "outputs": [
    {
     "name": "stdout",
     "output_type": "stream",
     "text": [
      "dishwashers\n",
      "(0, 7)\n",
      "washing machines\n",
      "(0, 7)\n",
      "Fridges and Freezers\n",
      "(0, 7)\n",
      "computer monitors\n",
      "(13, 7)\n",
      "dryer\n",
      "(0, 7)\n",
      "tv\n",
      "(0, 7)\n"
     ]
    }
   ],
   "source": [
    "for f_n, df in all_dfs.items():\n",
    "    print(f_n)\n",
    "    print(df[df.duplicated(subset=['Brand Name', 'Model Number'])].shape)"
   ]
  },
  {
   "cell_type": "code",
   "execution_count": 8,
   "metadata": {},
   "outputs": [],
   "source": [
    "all_dfs['computer monitors'].drop_duplicates(subset=[each for each in all_dfs['computer monitors'].columns \n",
    "                                                     if each != 'Unnamed: 0'], \n",
    "                                             inplace=True)\n"
   ]
  },
  {
   "cell_type": "code",
   "execution_count": 9,
   "metadata": {},
   "outputs": [],
   "source": [
    "all_jsons = {}\n",
    "\n",
    "for f_n, df in all_dfs.items():\n",
    "    \n",
    "    current_json = dict()\n",
    "    current_json_content = dict()\n",
    "    \n",
    "    for brand_tmp in df['Brand Name'].unique():\n",
    "        current_json_content[brand_tmp] = dict()\n",
    "        \n",
    "        for model_tmp in df.loc[df['Brand Name'] == brand_tmp, 'Model Number']:\n",
    "            current_json_content[brand_tmp][model_tmp] = \\\n",
    "            dict(zip(['Manufacturing Countries', 'Comparative Energy Consumption', 'Star Rating'],\n",
    "            df.loc[((df['Brand Name'] == brand_tmp) & (df['Model Number'] == model_tmp)),\n",
    "                   ['Manufacturing Countries', 'Comparative Energy Consumption', 'Star Rating']].astype(str).values[0]\n",
    "            ))\n",
    "    current_json[df['Appliance Type'].unique()[0]] = current_json_content\n",
    "    all_jsons[f_n] = current_json"
   ]
  },
  {
   "cell_type": "code",
   "execution_count": 10,
   "metadata": {},
   "outputs": [],
   "source": [
    "for f_n, f_j in all_jsons.items():\n",
    "    file_name = './json/{}.json'.format(f_n)\n",
    "#     print(file_name)\n",
    "    with open(file_name, mode='w', encoding='utf-8') as f:\n",
    "        f.write(json.dumps(f_j))"
   ]
  },
  {
   "cell_type": "code",
   "execution_count": null,
   "metadata": {},
   "outputs": [],
   "source": []
  }
 ],
 "metadata": {
  "kernelspec": {
   "display_name": "Python 3",
   "language": "python",
   "name": "python3"
  },
  "language_info": {
   "codemirror_mode": {
    "name": "ipython",
    "version": 3
   },
   "file_extension": ".py",
   "mimetype": "text/x-python",
   "name": "python",
   "nbconvert_exporter": "python",
   "pygments_lexer": "ipython3",
   "version": "3.7.1"
  }
 },
 "nbformat": 4,
 "nbformat_minor": 2
}
